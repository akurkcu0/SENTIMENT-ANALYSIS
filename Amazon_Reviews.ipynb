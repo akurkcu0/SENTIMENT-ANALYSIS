{
  "nbformat": 4,
  "nbformat_minor": 0,
  "metadata": {
    "colab": {
      "name": "Amazon Reviews.ipynb",
      "provenance": [],
      "authorship_tag": "ABX9TyOWXcO3GBVUAfszynxDo2E3"
    },
    "kernelspec": {
      "name": "python3",
      "display_name": "Python 3"
    },
    "language_info": {
      "name": "python"
    },
    "accelerator": "TPU"
  },
  "cells": [
    {
      "cell_type": "code",
      "metadata": {
        "colab": {
          "base_uri": "https://localhost:8080/"
        },
        "id": "ykWxXAxR1xNG",
        "outputId": "f483a20e-8cdd-4043-f7ed-faf93bb68ae5"
      },
      "source": [
        "from google.colab import drive\n",
        "drive.mount('/content/gdrive')"
      ],
      "execution_count": null,
      "outputs": [
        {
          "output_type": "stream",
          "text": [
            "Mounted at /content/gdrive\n"
          ],
          "name": "stdout"
        }
      ]
    },
    {
      "cell_type": "code",
      "metadata": {
        "colab": {
          "base_uri": "https://localhost:8080/"
        },
        "id": "F1rK8Giv2o7J",
        "outputId": "ab84e28c-8437-4be5-e671-33e77f8b1447"
      },
      "source": [
        "import pandas as pd\n",
        "import numpy as np\n",
        "import matplotlib.pyplot as plt\n",
        "import seaborn as sns\n",
        "from sklearn.feature_extraction.text import CountVectorizer\n",
        "from sklearn.feature_extraction.text import TfidfVectorizer\n",
        "from sklearn.linear_model import LogisticRegression\n",
        "from sklearn.model_selection import train_test_split\n",
        "from sklearn.dummy import DummyClassifier\n",
        "from string import punctuation\n",
        "from sklearn import svm\n",
        "from nltk.corpus import stopwords\n",
        "from nltk.stem import WordNetLemmatizer\n",
        "import nltk\n",
        "nltk.download('punkt')\n",
        "nltk.download('stopwords')\n",
        "nltk.download('wordnet')\n",
        "nltk.download('averaged_perceptron_tagger')\n",
        "from nltk import ngrams\n",
        "from itertools import chain\n",
        "from wordcloud import WordCloud"
      ],
      "execution_count": null,
      "outputs": [
        {
          "output_type": "stream",
          "text": [
            "[nltk_data] Downloading package punkt to /root/nltk_data...\n",
            "[nltk_data]   Unzipping tokenizers/punkt.zip.\n",
            "[nltk_data] Downloading package stopwords to /root/nltk_data...\n",
            "[nltk_data]   Unzipping corpora/stopwords.zip.\n",
            "[nltk_data] Downloading package wordnet to /root/nltk_data...\n",
            "[nltk_data]   Unzipping corpora/wordnet.zip.\n",
            "[nltk_data] Downloading package averaged_perceptron_tagger to\n",
            "[nltk_data]     /root/nltk_data...\n",
            "[nltk_data]   Unzipping taggers/averaged_perceptron_tagger.zip.\n"
          ],
          "name": "stdout"
        }
      ]
    },
    {
      "cell_type": "code",
      "metadata": {
        "colab": {
          "base_uri": "https://localhost:8080/",
          "height": 204
        },
        "id": "x6X4rrRm41lP",
        "outputId": "f1439ee6-5d2d-4505-9f32-de13cf2e1fc3"
      },
      "source": [
        "odf = pd.read_csv('../input/Reviews.csv')\n",
        "odf['Helpful %'] = np.where(odf['HelpfulnessDenominator'] > 0, odf['HelpfulnessNumerator'] / odf['HelpfulnessDenominator'], -1)\n",
        "odf['% Upvote'] = pd.cut(odf['Helpful %'], bins = [-1, 0, 0.2, 0.4, 0.6, 0.8, 1.0], labels = ['Empty', '0-20%', '20-40%', '40-60%', '60-80%', '80-100%'], include_lowest = True)\n",
        "odf.head()"
      ],
      "execution_count": null,
      "outputs": [
        {
          "output_type": "execute_result",
          "data": {
            "text/html": [
              "<div>\n",
              "<style scoped>\n",
              "    .dataframe tbody tr th:only-of-type {\n",
              "        vertical-align: middle;\n",
              "    }\n",
              "\n",
              "    .dataframe tbody tr th {\n",
              "        vertical-align: top;\n",
              "    }\n",
              "\n",
              "    .dataframe thead th {\n",
              "        text-align: right;\n",
              "    }\n",
              "</style>\n",
              "<table border=\"1\" class=\"dataframe\">\n",
              "  <thead>\n",
              "    <tr style=\"text-align: right;\">\n",
              "      <th></th>\n",
              "      <th>Id</th>\n",
              "      <th>ProductId</th>\n",
              "      <th>UserId</th>\n",
              "      <th>ProfileName</th>\n",
              "      <th>HelpfulnessNumerator</th>\n",
              "      <th>HelpfulnessDenominator</th>\n",
              "      <th>Score</th>\n",
              "      <th>Time</th>\n",
              "      <th>Summary</th>\n",
              "      <th>Text</th>\n",
              "      <th>Helpful %</th>\n",
              "      <th>% Upvote</th>\n",
              "    </tr>\n",
              "  </thead>\n",
              "  <tbody>\n",
              "    <tr>\n",
              "      <th>0</th>\n",
              "      <td>1</td>\n",
              "      <td>B001E4KFG0</td>\n",
              "      <td>A3SGXH7AUHU8GW</td>\n",
              "      <td>delmartian</td>\n",
              "      <td>1</td>\n",
              "      <td>1</td>\n",
              "      <td>5</td>\n",
              "      <td>1303862400</td>\n",
              "      <td>Good Quality Dog Food</td>\n",
              "      <td>I have bought several of the Vitality canned d...</td>\n",
              "      <td>1.0</td>\n",
              "      <td>80-100%</td>\n",
              "    </tr>\n",
              "    <tr>\n",
              "      <th>1</th>\n",
              "      <td>2</td>\n",
              "      <td>B00813GRG4</td>\n",
              "      <td>A1D87F6ZCVE5NK</td>\n",
              "      <td>dll pa</td>\n",
              "      <td>0</td>\n",
              "      <td>0</td>\n",
              "      <td>1</td>\n",
              "      <td>1346976000</td>\n",
              "      <td>Not as Advertised</td>\n",
              "      <td>Product arrived labeled as Jumbo Salted Peanut...</td>\n",
              "      <td>-1.0</td>\n",
              "      <td>Empty</td>\n",
              "    </tr>\n",
              "    <tr>\n",
              "      <th>2</th>\n",
              "      <td>3</td>\n",
              "      <td>B000LQOCH0</td>\n",
              "      <td>ABXLMWJIXXAIN</td>\n",
              "      <td>Natalia Corres \"Natalia Corres\"</td>\n",
              "      <td>1</td>\n",
              "      <td>1</td>\n",
              "      <td>4</td>\n",
              "      <td>1219017600</td>\n",
              "      <td>\"Delight\" says it all</td>\n",
              "      <td>This is a confection that has been around a fe...</td>\n",
              "      <td>1.0</td>\n",
              "      <td>80-100%</td>\n",
              "    </tr>\n",
              "    <tr>\n",
              "      <th>3</th>\n",
              "      <td>4</td>\n",
              "      <td>B000UA0QIQ</td>\n",
              "      <td>A395BORC6FGVXV</td>\n",
              "      <td>Karl</td>\n",
              "      <td>3</td>\n",
              "      <td>3</td>\n",
              "      <td>2</td>\n",
              "      <td>1307923200</td>\n",
              "      <td>Cough Medicine</td>\n",
              "      <td>If you are looking for the secret ingredient i...</td>\n",
              "      <td>1.0</td>\n",
              "      <td>80-100%</td>\n",
              "    </tr>\n",
              "    <tr>\n",
              "      <th>4</th>\n",
              "      <td>5</td>\n",
              "      <td>B006K2ZZ7K</td>\n",
              "      <td>A1UQRSCLF8GW1T</td>\n",
              "      <td>Michael D. Bigham \"M. Wassir\"</td>\n",
              "      <td>0</td>\n",
              "      <td>0</td>\n",
              "      <td>5</td>\n",
              "      <td>1350777600</td>\n",
              "      <td>Great taffy</td>\n",
              "      <td>Great taffy at a great price.  There was a wid...</td>\n",
              "      <td>-1.0</td>\n",
              "      <td>Empty</td>\n",
              "    </tr>\n",
              "  </tbody>\n",
              "</table>\n",
              "</div>"
            ],
            "text/plain": [
              "   Id   ProductId  ... Helpful % % Upvote\n",
              "0   1  B001E4KFG0  ...       1.0  80-100%\n",
              "1   2  B00813GRG4  ...      -1.0    Empty\n",
              "2   3  B000LQOCH0  ...       1.0  80-100%\n",
              "3   4  B000UA0QIQ  ...       1.0  80-100%\n",
              "4   5  B006K2ZZ7K  ...      -1.0    Empty\n",
              "\n",
              "[5 rows x 12 columns]"
            ]
          },
          "metadata": {
            "tags": []
          },
          "execution_count": 3
        }
      ]
    },
    {
      "cell_type": "code",
      "metadata": {
        "colab": {
          "base_uri": "https://localhost:8080/",
          "height": 638
        },
        "id": "wdTd5GnA5FPX",
        "outputId": "224c0d97-0b94-488e-fa85-e32271624763"
      },
      "source": [
        "df_s = odf.groupby(['Score', '% Upvote']).agg({'Id': 'count'})\n",
        "df_s = df_s.unstack()\n",
        "df_s.columns = df_s.columns.get_level_values(1)\n",
        "fig = plt.figure(figsize=(15,10))\n",
        "\n",
        "sns.heatmap(df_s[df_s.columns[::-1]].T, cmap = 'YlGnBu', linewidths=.5, annot = True, \n",
        "            fmt = 'd', cbar_kws={'label': '# reviews'})\n",
        "plt.yticks(rotation=0)\n",
        "plt.title('How helpful users find among user scores')"
      ],
      "execution_count": null,
      "outputs": [
        {
          "output_type": "execute_result",
          "data": {
            "text/plain": [
              "Text(0.5, 1.0, 'How helpful users find among user scores')"
            ]
          },
          "metadata": {
            "tags": []
          },
          "execution_count": 4
        },
        {
          "output_type": "display_data",
          "data": {
            "image/png": "[encoded data removed]",
            "text/plain": [
              "<Figure size 1080x720 with 2 Axes>"
            ]
          },
          "metadata": {
            "tags": [],
            "needs_background": "light"
          }
        }
      ]
    },
    {
      "cell_type": "code",
      "metadata": {
        "id": "pFotBWFE5MTW"
      },
      "source": [
        "df = odf[odf['Score'] != 3]\n",
        "X = df['Text']\n",
        "y_dict = {1:0, 2:0, 4:1, 5:1}\n",
        "y = df['Score'].map(y_dict)"
      ],
      "execution_count": null,
      "outputs": []
    },
    {
      "cell_type": "code",
      "metadata": {
        "colab": {
          "base_uri": "https://localhost:8080/"
        },
        "id": "URFF8sDd5Tu_",
        "outputId": "d733b061-4ce3-4dce-a157-a969d3c9d7e8"
      },
      "source": [
        "c = CountVectorizer(stop_words = 'english')\n",
        "\n",
        "def text_fit(X, y, model,clf_model,coef_show=1):\n",
        "    \n",
        "    X_c = model.fit_transform(X)\n",
        "    print('# features: {}'.format(X_c.shape[1]))\n",
        "    X_train, X_test, y_train, y_test = train_test_split(X_c, y, random_state=0)\n",
        "    print('# train records: {}'.format(X_train.shape[0]))\n",
        "    print('# test records: {}'.format(X_test.shape[0]))\n",
        "    clf = clf_model.fit(X_train, y_train)\n",
        "    acc = clf.score(X_test, y_test)\n",
        "    print ('Model Accuracy: {}'.format(acc))\n",
        "    \n",
        "    if coef_show == 1: \n",
        "        w = model.get_feature_names()\n",
        "        coef = clf.coef_.tolist()[0]\n",
        "        coeff_df = pd.DataFrame({'Word' : w, 'Coefficient' : coef})\n",
        "        coeff_df = coeff_df.sort_values(['Coefficient', 'Word'], ascending=[0, 1])\n",
        "        print('')\n",
        "        print('-Top 20 positive-')\n",
        "        print(coeff_df.head(20).to_string(index=False))\n",
        "        print('')\n",
        "        print('-Top 20 negative-')        \n",
        "        print(coeff_df.tail(20).to_string(index=False))\n",
        "    \n",
        "    \n",
        "text_fit(X, y, c, LogisticRegression())"
      ],
      "execution_count": null,
      "outputs": [
        {
          "output_type": "stream",
          "text": [
            "# features: 114969\n",
            "# train records: 394360\n",
            "# test records: 131454\n"
          ],
          "name": "stdout"
        },
        {
          "output_type": "stream",
          "text": [
            "/usr/local/lib/python3.7/dist-packages/sklearn/linear_model/_logistic.py:940: ConvergenceWarning: lbfgs failed to converge (status=1):\n",
            "STOP: TOTAL NO. of ITERATIONS REACHED LIMIT.\n",
            "\n",
            "Increase the number of iterations (max_iter) or scale the data as shown in:\n",
            "    https://scikit-learn.org/stable/modules/preprocessing.html\n",
            "Please also refer to the documentation for alternative solver options:\n",
            "    https://scikit-learn.org/stable/modules/linear_model.html#logistic-regression\n",
            "  extra_warning_msg=_LOGISTIC_SOLVER_CONVERGENCE_MSG)\n"
          ],
          "name": "stderr"
        },
        {
          "output_type": "stream",
          "text": [
            "Model Accuracy: 0.9358102454090405\n",
            "\n",
            "-Top 20 positive-\n",
            "        Word  Coefficient\n",
            "  pleasantly     4.232730\n",
            "    downside     3.125648\n",
            "   addicting     2.958208\n",
            "    drawback     2.669476\n",
            "   skeptical     2.510482\n",
            "      resist     2.379250\n",
            "  economical     2.265155\n",
            "        whim     2.235738\n",
            "    soothing     2.218361\n",
            "     easiest     2.206106\n",
            "      hooked     2.173942\n",
            "     welcome     2.083908\n",
            "   delighted     2.078764\n",
            "       meets     1.976063\n",
            "         yay     1.975571\n",
            "   excellent     1.970803\n",
            " wonderfully     1.970568\n",
            "     worries     1.944912\n",
            " exceptional     1.941874\n",
            "      delish     1.933417\n",
            "\n",
            "-Top 20 negative-\n",
            "          Word  Coefficient\n",
            "         ruins    -2.305289\n",
            "        lacked    -2.326984\n",
            "         blech    -2.333991\n",
            "    unfinished    -2.349367\n",
            "    unbearable    -2.355606\n",
            "           ick    -2.418676\n",
            "    overpowers    -2.488406\n",
            "   unappealing    -2.531167\n",
            "   disapointed    -2.557415\n",
            "       defeats    -2.613754\n",
            "    returnable    -2.683771\n",
            "      mediocre    -2.735403\n",
            "        ripoff    -2.843023\n",
            " disappointing    -2.945808\n",
            "   embarrassed    -2.958636\n",
            "         worst    -3.014099\n",
            "     cancelled    -3.121148\n",
            "  unacceptable    -3.378199\n",
            "     deceptive    -3.520591\n",
            "   undrinkable    -3.659806\n"
          ],
          "name": "stdout"
        }
      ]
    },
    {
      "cell_type": "code",
      "metadata": {
        "colab": {
          "base_uri": "https://localhost:8080/"
        },
        "id": "Oax96W3i5WD3",
        "outputId": "01f482c2-5577-4021-d369-d0a261010564"
      },
      "source": [
        "text_fit(X, y, c, DummyClassifier(),0)"
      ],
      "execution_count": null,
      "outputs": [
        {
          "output_type": "stream",
          "text": [
            "# features: 114969\n",
            "# train records: 394360\n",
            "# test records: 131454\n",
            "Model Accuracy: 0.7369574147610571\n"
          ],
          "name": "stdout"
        },
        {
          "output_type": "stream",
          "text": [
            "/usr/local/lib/python3.7/dist-packages/sklearn/dummy.py:132: FutureWarning: The default value of strategy will change from stratified to prior in 0.24.\n",
            "  \"stratified to prior in 0.24.\", FutureWarning)\n"
          ],
          "name": "stderr"
        }
      ]
    },
    {
      "cell_type": "code",
      "metadata": {
        "colab": {
          "base_uri": "https://localhost:8080/"
        },
        "id": "73jQU18j5kKP",
        "outputId": "5da87e84-7521-4e9f-f761-debd890e8588"
      },
      "source": [
        "tfidf = TfidfVectorizer(stop_words = 'english')\n",
        "text_fit(X, y, tfidf, LogisticRegression())"
      ],
      "execution_count": null,
      "outputs": [
        {
          "output_type": "stream",
          "text": [
            "# features: 114969\n",
            "# train records: 394360\n",
            "# test records: 131454\n"
          ],
          "name": "stdout"
        },
        {
          "output_type": "stream",
          "text": [
            "/usr/local/lib/python3.7/dist-packages/sklearn/linear_model/_logistic.py:940: ConvergenceWarning: lbfgs failed to converge (status=1):\n",
            "STOP: TOTAL NO. of ITERATIONS REACHED LIMIT.\n",
            "\n",
            "Increase the number of iterations (max_iter) or scale the data as shown in:\n",
            "    https://scikit-learn.org/stable/modules/preprocessing.html\n",
            "Please also refer to the documentation for alternative solver options:\n",
            "    https://scikit-learn.org/stable/modules/linear_model.html#logistic-regression\n",
            "  extra_warning_msg=_LOGISTIC_SOLVER_CONVERGENCE_MSG)\n"
          ],
          "name": "stderr"
        },
        {
          "output_type": "stream",
          "text": [
            "Model Accuracy: 0.9346083040455216\n",
            "\n",
            "-Top 20 positive-\n",
            "       Word  Coefficient\n",
            "      great    13.695298\n",
            "  delicious    12.264886\n",
            "       best    11.967094\n",
            "    perfect    10.723732\n",
            "  excellent    10.013792\n",
            "      loves     9.552907\n",
            "     highly     8.970362\n",
            "       love     8.286137\n",
            "  wonderful     8.087789\n",
            "    amazing     7.729151\n",
            "    awesome     7.501135\n",
            " pleasantly     7.455942\n",
            "       good     7.348545\n",
            "       nice     7.096568\n",
            "     hooked     7.076224\n",
            "    pleased     6.980317\n",
            "     smooth     6.910817\n",
            "   favorite     6.853610\n",
            "      yummy     6.821671\n",
            "  fantastic     6.569467\n",
            "\n",
            "-Top 20 negative-\n",
            "           Word  Coefficient\n",
            "          waste    -5.647138\n",
            "           poor    -5.756170\n",
            "    undrinkable    -5.866625\n",
            "           yuck    -5.945607\n",
            "          stale    -6.088770\n",
            "          worse    -6.217101\n",
            "          bland    -6.345562\n",
            "           weak    -6.477051\n",
            "     disgusting    -6.514147\n",
            "          threw    -6.727794\n",
            "      tasteless    -6.733551\n",
            "         return    -6.795280\n",
            "  unfortunately    -7.411392\n",
            "       horrible    -7.850534\n",
            " disappointment    -8.211662\n",
            "          awful    -8.216881\n",
            "   disappointed    -8.527157\n",
            "       terrible    -9.360631\n",
            "  disappointing   -10.113241\n",
            "          worst   -11.701481\n"
          ],
          "name": "stdout"
        }
      ]
    },
    {
      "cell_type": "code",
      "metadata": {
        "colab": {
          "base_uri": "https://localhost:8080/"
        },
        "id": "AVXjJOkE5uHI",
        "outputId": "91aee2e4-4e62-4b86-d7d6-6dcd8e2c2c05"
      },
      "source": [
        "tfidf_n = TfidfVectorizer(ngram_range=(1,2),stop_words = 'english')\n",
        "text_fit(X, y, tfidf_n, LogisticRegression())"
      ],
      "execution_count": null,
      "outputs": [
        {
          "output_type": "stream",
          "text": [
            "# features: 3933179\n",
            "# train records: 394360\n",
            "# test records: 131454\n"
          ],
          "name": "stdout"
        },
        {
          "output_type": "stream",
          "text": [
            "/usr/local/lib/python3.7/dist-packages/sklearn/linear_model/_logistic.py:940: ConvergenceWarning: lbfgs failed to converge (status=1):\n",
            "STOP: TOTAL NO. of ITERATIONS REACHED LIMIT.\n",
            "\n",
            "Increase the number of iterations (max_iter) or scale the data as shown in:\n",
            "    https://scikit-learn.org/stable/modules/preprocessing.html\n",
            "Please also refer to the documentation for alternative solver options:\n",
            "    https://scikit-learn.org/stable/modules/linear_model.html#logistic-regression\n",
            "  extra_warning_msg=_LOGISTIC_SOLVER_CONVERGENCE_MSG)\n"
          ],
          "name": "stderr"
        },
        {
          "output_type": "stream",
          "text": [
            "Model Accuracy: 0.9456768147032422\n",
            "\n",
            "-Top 20 positive-\n",
            "      Word  Coefficient\n",
            "     great    20.656004\n",
            "      best    17.912018\n",
            " delicious    16.972224\n",
            "   perfect    14.507385\n",
            "     loves    13.706369\n",
            "      love    13.044294\n",
            " excellent    13.036191\n",
            "      good    11.403729\n",
            " wonderful    11.200842\n",
            "      nice    10.901578\n",
            "  favorite    10.659798\n",
            "   amazing     9.561725\n",
            "   awesome     9.251510\n",
            "      easy     9.141534\n",
            "     happy     8.964936\n",
            "   pleased     8.778300\n",
            "    smooth     8.607139\n",
            "     yummy     8.502293\n",
            "     tasty     8.459028\n",
            "    highly     8.402930\n",
            "\n",
            "-Top 20 negative-\n",
            "           Word  Coefficient\n",
            "          maybe    -7.892097\n",
            "         hoping    -8.053516\n",
            "          money    -8.167249\n",
            "      tasteless    -8.196235\n",
            "          worse    -8.266857\n",
            "        thought    -8.448484\n",
            "     disgusting    -8.679442\n",
            "          bland    -9.116741\n",
            "          threw    -9.248305\n",
            "          stale    -9.972202\n",
            "         return   -10.099827\n",
            "           weak   -10.110367\n",
            " disappointment   -10.274333\n",
            "  unfortunately   -10.802058\n",
            "       horrible   -11.287234\n",
            "          awful   -11.747038\n",
            "       terrible   -12.926987\n",
            "  disappointing   -13.316806\n",
            "   disappointed   -14.585683\n",
            "          worst   -15.032529\n"
          ],
          "name": "stdout"
        }
      ]
    },
    {
      "cell_type": "code",
      "metadata": {
        "colab": {
          "base_uri": "https://localhost:8080/"
        },
        "id": "u8gl5wh959qW",
        "outputId": "3e17b42d-275f-42cb-e8c1-4d7ee04997f8"
      },
      "source": [
        "df = df[df['Score'] == 5]\n",
        "df = df[df['% Upvote'].isin(['0-20%', '20-40%', '60-80%', '80-100%'])]\n",
        "df.shape\n",
        "\n",
        "X = df['Text']\n",
        "y_dict = {'0-20%': 0, '20-40%': 0, '60-80%': 1, '80-100%': 1}\n",
        "y = df['% Upvote'].map(y_dict)\n",
        "\n",
        "print('Class distribution:')\n",
        "print(y.value_counts())"
      ],
      "execution_count": null,
      "outputs": [
        {
          "output_type": "stream",
          "text": [
            "Class distribution:\n",
            "1.0    151721\n",
            "0.0      2707\n",
            "Name: % Upvote, dtype: int64\n"
          ],
          "name": "stdout"
        }
      ]
    },
    {
      "cell_type": "code",
      "metadata": {
        "colab": {
          "base_uri": "https://localhost:8080/"
        },
        "id": "q7_2iNUb7llB",
        "outputId": "fe0c40de-2dce-4ffe-c8a7-a9895ae77efe"
      },
      "source": [
        "df_s = pd.DataFrame(data = [X,y]).T\n",
        "\n",
        "Downvote_records = len(df_s[df_s['% Upvote'] == 0])\n",
        "Downvote_indices = np.array(df_s[df_s['% Upvote'] == 0].index)\n",
        "\n",
        "Upvote_indices = df_s[df_s['% Upvote'] == 1].index\n",
        "\n",
        "random_upvote_indices = np.random.choice(Upvote_indices, Downvote_records, replace = False)\n",
        "random_upvote_indices = np.array(random_upvote_indices)\n",
        "\n",
        "under_sample_indices = np.concatenate([Downvote_indices,random_upvote_indices])\n",
        "\n",
        "under_sample_data = df_s.loc[under_sample_indices, :]\n",
        "X_u = under_sample_data['Text']\n",
        "under_sample_data['% Upvote'] = under_sample_data['% Upvote'].astype(int)\n",
        "y_u = under_sample_data['% Upvote']\n",
        "\n",
        "\n",
        "print(\"Percentage of upvote transactions: \", len(under_sample_data[under_sample_data['% Upvote'] == 1])/len(under_sample_data))\n",
        "print(\"Percentage of downvote transactions: \", len(under_sample_data[under_sample_data['% Upvote'] == 0])/len(under_sample_data))\n",
        "print(\"Total number of records in resampled data: \", len(under_sample_data))"
      ],
      "execution_count": null,
      "outputs": [
        {
          "output_type": "stream",
          "text": [
            "Percentage of upvote transactions:  0.5\n",
            "Percentage of downvote transactions:  0.5\n",
            "Total number of records in resampled data:  5414\n"
          ],
          "name": "stdout"
        }
      ]
    },
    {
      "cell_type": "code",
      "metadata": {
        "colab": {
          "base_uri": "https://localhost:8080/"
        },
        "id": "bSC7g6La7o63",
        "outputId": "5dbf2410-48de-49a9-8229-d7be776b7c26"
      },
      "source": [
        "c = CountVectorizer(stop_words = 'english')\n",
        "\n",
        "text_fit(X_u, y_u, c, LogisticRegression())"
      ],
      "execution_count": null,
      "outputs": [
        {
          "output_type": "stream",
          "text": [
            "# features: 15805\n",
            "# train records: 4060\n",
            "# test records: 1354\n",
            "Model Accuracy: 0.7208271787296898\n",
            "\n",
            "-Top 20 positive-\n",
            "         Word  Coefficient\n",
            "       keurig     1.496195\n",
            "    favorites     1.434948\n",
            "        salad     1.313899\n",
            "    allergies     1.287007\n",
            " supermarkets     1.257032\n",
            "        value     1.221596\n",
            " discontinued     1.196698\n",
            "        paste     1.169424\n",
            "         chai     1.136452\n",
            "     quantity     1.095839\n",
            "         kick     1.088830\n",
            "      dessert     1.088359\n",
            "       single     1.078680\n",
            "    difficult     1.073564\n",
            "         thai     1.070744\n",
            "       tender     1.065948\n",
            "         xmas     1.020304\n",
            "        carry     1.014676\n",
            "        crisp     1.006272\n",
            "         wont     0.996126\n",
            "\n",
            "-Top 20 negative-\n",
            "       Word  Coefficient\n",
            "       stix    -0.959081\n",
            "      berry    -0.973977\n",
            "       cute    -0.979431\n",
            "     manner    -0.998959\n",
            "    cleanse    -1.003396\n",
            "     unique    -1.027027\n",
            "    camping    -1.036784\n",
            "      cause    -1.039826\n",
            "    weather    -1.072110\n",
            "     lipton    -1.073677\n",
            "   enjoying    -1.109410\n",
            "       wish    -1.136963\n",
            "   brooklyn    -1.195467\n",
            "      maybe    -1.201917\n",
            "         24    -1.203270\n",
            " cappuccino    -1.219117\n",
            "      kashi    -1.223156\n",
            "      beats    -1.263681\n",
            "      purse    -1.374005\n",
            "     marley    -1.735913\n"
          ],
          "name": "stdout"
        },
        {
          "output_type": "stream",
          "text": [
            "/usr/local/lib/python3.7/dist-packages/sklearn/linear_model/_logistic.py:940: ConvergenceWarning: lbfgs failed to converge (status=1):\n",
            "STOP: TOTAL NO. of ITERATIONS REACHED LIMIT.\n",
            "\n",
            "Increase the number of iterations (max_iter) or scale the data as shown in:\n",
            "    https://scikit-learn.org/stable/modules/preprocessing.html\n",
            "Please also refer to the documentation for alternative solver options:\n",
            "    https://scikit-learn.org/stable/modules/linear_model.html#logistic-regression\n",
            "  extra_warning_msg=_LOGISTIC_SOLVER_CONVERGENCE_MSG)\n"
          ],
          "name": "stderr"
        }
      ]
    },
    {
      "cell_type": "code",
      "metadata": {
        "colab": {
          "base_uri": "https://localhost:8080/"
        },
        "id": "mZW_xjBg8PeR",
        "outputId": "e22691b7-4aff-4892-d538-5483fd042a3a"
      },
      "source": [
        "tfidf_n = TfidfVectorizer(ngram_range=(1,2),stop_words = 'english')\n",
        "\n",
        "text_fit(X_u, y_u, tfidf_n, LogisticRegression())"
      ],
      "execution_count": null,
      "outputs": [
        {
          "output_type": "stream",
          "text": [
            "# features: 142139\n",
            "# train records: 4060\n",
            "# test records: 1354\n",
            "Model Accuracy: 0.7289512555391433\n",
            "\n",
            "-Top 20 positive-\n",
            "    Word  Coefficient\n",
            "    food     1.905635\n",
            "      ve     1.451211\n",
            "    salt     1.435922\n",
            "     mix     1.400780\n",
            "   tried     1.313800\n",
            "    rice     1.285019\n",
            "  flavor     1.205866\n",
            "     tea     1.191420\n",
            "   fresh     1.125617\n",
            "   snack     1.115118\n",
            "   value     1.110786\n",
            "    teas     1.082994\n",
            "    make     1.039547\n",
            " perfect     1.031454\n",
            "   pasta     0.999626\n",
            "  ginger     0.955197\n",
            "    chai     0.949565\n",
            "  peanut     0.909883\n",
            "   small     0.906689\n",
            "     bag     0.904093\n",
            "\n",
            "-Top 20 negative-\n",
            "          Word  Coefficient\n",
            " product great    -0.892289\n",
            "        coffee    -0.892818\n",
            "        people    -0.899722\n",
            "          sure    -0.917333\n",
            "        cereal    -0.917603\n",
            "         ounce    -0.925200\n",
            "      enjoying    -0.946999\n",
            "       service    -1.023598\n",
            "        lipton    -1.043530\n",
            "       product    -1.062680\n",
            "    cappuccino    -1.111971\n",
            "          wish    -1.116712\n",
            "          zico    -1.119781\n",
            "        marley    -1.127889\n",
            "      received    -1.146370\n",
            "         water    -1.341590\n",
            "          know    -1.371831\n",
            "         order    -1.499546\n",
            "            br    -1.801767\n",
            "         drink    -1.858281\n"
          ],
          "name": "stdout"
        }
      ]
    },
    {
      "cell_type": "code",
      "metadata": {
        "colab": {
          "base_uri": "https://localhost:8080/"
        },
        "id": "2hWQ-IHw8Ygn",
        "outputId": "16b198c6-eca7-4373-f7d8-458641f9772a"
      },
      "source": [
        "#pd.set_option('display.max_colwidth', -1)\n",
        "print('Downvote score 5 comments examples:')\n",
        "print(under_sample_data[under_sample_data['% Upvote']==0]['Text'].iloc[:100:20])\n",
        "print('Upvote score 5 comments examples')\n",
        "print(under_sample_data[under_sample_data['% Upvote']==1]['Text'].iloc[:100:20])"
      ],
      "execution_count": null,
      "outputs": [
        {
          "output_type": "stream",
          "text": [
            "Downvote score 5 comments examples:\n",
            "207      Hard to find the wintergreen smalls [sugar fre...\n",
            "4511     Wonderful, smooth, satisfying decaf coffee wit...\n",
            "7787     My husband is a big coffee drinker, and with a...\n",
            "12072    We love French roast coffee and my husband mus...\n",
            "13671    THIS IS A LOVELY VERY HEALTHY TREE,ALONG WITH ...\n",
            "Name: Text, dtype: object\n",
            "Upvote score 5 comments examples\n",
            "237465    Perfect blend of coffee and cocoa for the swee...\n",
            "113931    This candy is hard to find, not sold in retail...\n",
            "530594    Chocolate milk is one of my special treats tha...\n",
            "333703    Great tasting snack, light on the calories for...\n",
            "225454    What can I say - it does what it says on the c...\n",
            "Name: Text, dtype: object\n"
          ],
          "name": "stdout"
        }
      ]
    },
    {
      "cell_type": "code",
      "metadata": {
        "colab": {
          "base_uri": "https://localhost:8080/"
        },
        "id": "dujJgKBZ8fXo",
        "outputId": "1c9874f9-2df0-419f-e62a-7296d1c50aa4"
      },
      "source": [
        "under_sample_data['word_count'] = under_sample_data['Text'].apply(lambda x: len(x.split()))\n",
        "under_sample_data['capital_count'] = under_sample_data['Text'].apply(lambda x: sum(1 for c in x if c.isupper()))\n",
        "under_sample_data['question_mark'] = under_sample_data['Text'].apply(lambda x: sum(1 for c in x if c == '?'))\n",
        "under_sample_data['exclamation_mark'] = under_sample_data['Text'].apply(lambda x: sum(1 for c in x if c == '!'))\n",
        "under_sample_data['punctuation'] = under_sample_data['Text'].apply(lambda x: sum(1 for c in x if c in punctuation))\n",
        "\n",
        "print(under_sample_data.groupby('% Upvote').agg({'word_count': 'mean', 'capital_count': 'mean', 'question_mark': 'mean', 'exclamation_mark': 'mean', 'punctuation': 'mean'}).T)\n",
        "\n",
        "X_num = under_sample_data[under_sample_data.columns.difference(['% Upvote', 'Text'])]\n",
        "y_num = under_sample_data['% Upvote']"
      ],
      "execution_count": null,
      "outputs": [
        {
          "output_type": "stream",
          "text": [
            "% Upvote                  0          1\n",
            "word_count        83.927226  86.764315\n",
            "capital_count     19.252678  14.084595\n",
            "question_mark      0.180273   0.073144\n",
            "exclamation_mark   0.906169   0.944958\n",
            "punctuation       22.482822  19.418175\n"
          ],
          "name": "stdout"
        }
      ]
    },
    {
      "cell_type": "code",
      "metadata": {
        "colab": {
          "base_uri": "https://localhost:8080/"
        },
        "id": "sRaWNYQ5Afac",
        "outputId": "0d954e70-da4c-4fae-84f1-0b6d3bb5113c"
      },
      "source": [
        "X_train, X_test, y_train, y_test = train_test_split(X_num, y_num, random_state=0)\n",
        "\n",
        "clf_lr = LogisticRegression().fit(X_train, y_train)\n",
        "acc_lr = clf_lr.score(X_test, y_test)\n",
        "print('Logistic Regression accuracy: {}'.format(acc_lr))\n",
        "\n",
        "clf_svm = svm.SVC().fit(X_train, y_train)\n",
        "acc_svm = clf_svm.score(X_test, y_test)\n",
        "print('SVM accuracy: {}'.format(acc_svm))"
      ],
      "execution_count": null,
      "outputs": [
        {
          "output_type": "stream",
          "text": [
            "Logistic Regression accuracy: 0.587149187592319\n",
            "SVM accuracy: 0.5915805022156573\n"
          ],
          "name": "stdout"
        }
      ]
    },
    {
      "cell_type": "code",
      "metadata": {
        "colab": {
          "base_uri": "https://localhost:8080/"
        },
        "id": "iCqhis8gAjLZ",
        "outputId": "cb619b15-a25c-4ab2-e8c1-6f5cae2fe978"
      },
      "source": [
        "df_user = odf.groupby(['UserId', 'ProfileName']).agg({'Score':['count', 'mean']})\n",
        "df_user.columns = df_user.columns.get_level_values(1)\n",
        "df_user.columns = ['Score count', 'Score mean']\n",
        "df_user = df_user.sort_values(by = 'Score count', ascending = False)\n",
        "print(df_user.head(10))"
      ],
      "execution_count": null,
      "outputs": [
        {
          "output_type": "stream",
          "text": [
            "                                                       Score count  Score mean\n",
            "UserId         ProfileName                                                    \n",
            "A3OXHLG6DIBRW8 C. F. Hill \"CFH\"                                448    4.535714\n",
            "A1YUL9PCJR3JTY O. Brown \"Ms. O. Khannah-Brown\"                 421    4.494062\n",
            "AY12DBB0U420B  Gary Peterson                                   389    4.647815\n",
            "A281NPSIMI1C2R Rebecca of Amazon \"The Rebecca Review\"          365    4.841096\n",
            "A1Z54EM24Y40LL c2                                              256    4.453125\n",
            "A1TMAVN4CEM8U8 Gunner                                          204    4.833333\n",
            "A2MUGFV2TDQ47K Lynrie \"Oh HELL no\"                             201    3.751244\n",
            "A3TVZM3ZIXG8YW christopher hayes                               199    1.000000\n",
            "A3PJZ8TU8FDQ1K Jared Castle                                    178    4.601124\n",
            "AQQLWCMRNDFGI  Steven A. Peterson                              176    3.954545\n"
          ],
          "name": "stdout"
        }
      ]
    },
    {
      "cell_type": "code",
      "metadata": {
        "colab": {
          "base_uri": "https://localhost:8080/",
          "height": 604
        },
        "id": "8DCLgEKcAm8A",
        "outputId": "3e453df4-bc68-4fd4-cd3e-bc85db1eb360"
      },
      "source": [
        "def plot_user(UserId):\n",
        "    df_1user = odf[odf['UserId'] == UserId]['Score']\n",
        "    df_1user_plot = df_1user.value_counts(sort=False)\n",
        "    ax = df_1user_plot.plot(kind = 'bar', figsize = (15,10), title = 'Score distribution of user {} review'.format(odf[odf['UserId'] == UserId]['ProfileName'].iloc[0]))\n",
        "\n",
        "plot_user('A3OXHLG6DIBRW8')"
      ],
      "execution_count": null,
      "outputs": [
        {
          "output_type": "display_data",
          "data": {
            "image/png": "[encoded data removed]",
            "text/plain": [
              "<Figure size 1080x720 with 1 Axes>"
            ]
          },
          "metadata": {
            "tags": [],
            "needs_background": "light"
          }
        }
      ]
    },
    {
      "cell_type": "code",
      "metadata": {
        "colab": {
          "base_uri": "https://localhost:8080/"
        },
        "id": "_9MriJXjArGh",
        "outputId": "377b9934-2c81-4ae6-ce68-923040ceb88a"
      },
      "source": [
        "print(df_user[(df_user['Score mean']<3.5) & (df_user['Score mean']>2.5)].head())"
      ],
      "execution_count": null,
      "outputs": [
        {
          "output_type": "stream",
          "text": [
            "                                Score count  Score mean\n",
            "UserId         ProfileName                             \n",
            "A35R32TA60XD57 M. Torma                 141    3.460993\n",
            "A2M9D9BDHONV3Y A. Bennett               115    3.269565\n",
            "A2TN9C5E4A0I3F Jimmy                    110    2.727273\n",
            "A2XNJJ9TF70P4J Angie                     85    2.976471\n",
            "AJB5P7GVR0MT8  Harry the Horse           70    3.257143\n"
          ],
          "name": "stdout"
        }
      ]
    },
    {
      "cell_type": "code",
      "metadata": {
        "colab": {
          "base_uri": "https://localhost:8080/",
          "height": 604
        },
        "id": "xXa4t4bpAt3g",
        "outputId": "0a12d455-e707-42ed-990d-dc39f9911299"
      },
      "source": [
        "plot_user('A2M9D9BDHONV3Y')"
      ],
      "execution_count": null,
      "outputs": [
        {
          "output_type": "display_data",
          "data": {
            "image/png": "[encoded data removed]",
            "text/plain": [
              "<Figure size 1080x720 with 1 Axes>"
            ]
          },
          "metadata": {
            "tags": [],
            "needs_background": "light"
          }
        }
      ]
    },
    {
      "cell_type": "code",
      "metadata": {
        "colab": {
          "base_uri": "https://localhost:8080/"
        },
        "id": "QQ6fIaguAxuY",
        "outputId": "1849cedc-02da-4fb1-890c-cc716bed214a"
      },
      "source": [
        "def get_token_ngram(score, benchmark, userid='all'):\n",
        "\n",
        "    if userid != 'all':\n",
        "        df = odf[(odf['UserId'] == userid) & (odf['Score'] == score)]['Text']\n",
        "    else:\n",
        "        df = odf[odf['Score'] == score]['Text']\n",
        "        \n",
        "    count = len(df)\n",
        "    total_text = ' '.join(df)\n",
        "    total_text = total_text.lower()\n",
        "    stop = set(stopwords.words('english'))\n",
        "    total_text = nltk.word_tokenize(total_text)\n",
        "    total_text = [word for word in total_text if word not in stop and len(word) >= 3]\n",
        "    lemmatizer = WordNetLemmatizer()\n",
        "    total_text = [lemmatizer.lemmatize(w,'v') for w in total_text]\n",
        "    bigrams = ngrams(total_text,2)\n",
        "    trigrams = ngrams(total_text, 3)\n",
        "\n",
        "    # look at 2-gram and 3-gram together\n",
        "    combine = chain(bigrams, trigrams)\n",
        "    text = nltk.Text(combine)\n",
        "    fdist = nltk.FreqDist(text)\n",
        "    \n",
        "    # return only phrase occurs more than benchmark of his reviews\n",
        "    return sorted([(w,fdist[w],str(round(fdist[w]/count*100,2))+'%') for w in set(text) if fdist[w] >= count*benchmark], key=lambda x: -x[1])\n",
        "\n",
        "# score 1-5 reviews with this user\n",
        "index = ['Phrase', 'Count', 'Occur %']\n",
        "\n",
        "for j in range(1,6):\n",
        "    test = pd.DataFrame()\n",
        "    d = get_token_ngram(j, 0.25, 'A2M9D9BDHONV3Y')\n",
        "    print('score {} reviews most popular 2-gram / 3-gram:'.format(j))\n",
        "    for i in d:\n",
        "        test = test.append(pd.Series(i, index = index), ignore_index = True)\n",
        "    test = test.sort_values('Count', ascending=False)\n",
        "    print(test)"
      ],
      "execution_count": null,
      "outputs": [
        {
          "output_type": "stream",
          "text": [
            "score 1 reviews most popular 2-gram / 3-gram:\n",
            "   Count  Occur %                   Phrase\n",
            "0   31.0  119.23%               (..., ...)\n",
            "1   17.0   65.38%          (..., ..., ...)\n",
            "2   11.0   42.31%             (never, buy)\n",
            "3    9.0   34.62%           (buy, product)\n",
            "4    8.0   30.77%    (never, buy, product)\n",
            "5    8.0   30.77%  (monosodium, glutamate)\n",
            "6    7.0   26.92%            (decide, try)\n",
            "7    7.0   26.92%          (picture, look)\n",
            "8    7.0   26.92%         (dry, tasteless)\n",
            "score 2 reviews most popular 2-gram / 3-gram:\n",
            "    Count Occur %                Phrase\n",
            "0     8.0  47.06%  (sauce, ruin, whole)\n",
            "1     8.0  47.06%         (sauce, ruin)\n",
            "2     8.0  47.06%         (ruin, whole)\n",
            "3     6.0  35.29%       (product, ever)\n",
            "4     6.0  35.29%            (n't, buy)\n",
            "5     5.0  29.41%            (n't, get)\n",
            "6     5.0  29.41%          (.give, try)\n",
            "7     5.0  29.41%     (..., .give, try)\n",
            "8     5.0  29.41%     (buy, particular)\n",
            "9     5.0  29.41%         (taste, like)\n",
            "10    5.0  29.41%     (n't, get, wrong)\n",
            "11    5.0  29.41%           (try, like)\n",
            "12    5.0  29.41%          (get, wrong)\n",
            "13    5.0  29.41%          (..., .give)\n",
            "14    5.0  29.41%    (.give, try, like)\n",
            "score 3 reviews most popular 2-gram / 3-gram:\n",
            "   Count Occur %         Phrase\n",
            "0    7.0   50.0%     (..., ...)\n",
            "1    4.0  28.57%   (whole, lot)\n",
            "2    4.0  28.57%  (taste, like)\n",
            "score 4 reviews most popular 2-gram / 3-gram:\n",
            "   Count Occur %               Phrase\n",
            "0    6.0   37.5%  (highly, recommend)\n",
            "1    5.0  31.25%         (side, dish)\n",
            "2    4.0   25.0%       (potato, chip)\n",
            "score 5 reviews most popular 2-gram / 3-gram:\n",
            "   Count Occur %               Phrase\n",
            "0   18.0  42.86%  (highly, recommend)\n"
          ],
          "name": "stdout"
        }
      ]
    },
    {
      "cell_type": "code",
      "metadata": {
        "colab": {
          "base_uri": "https://localhost:8080/"
        },
        "id": "bsUxqHgFA0vh",
        "outputId": "48b5db52-e589-4fef-df7f-7bad9f01bee2"
      },
      "source": [
        "# score 1-5 reviews with all users\n",
        "index = ['Phrase', 'Count', 'Occur %']\n",
        "\n",
        "for j in range(1,6):\n",
        "    test = pd.DataFrame()\n",
        "    # easier benchmark since we have many different users here, thus different phrase\n",
        "    d = get_token_ngram(j, 0.03)\n",
        "    print('score {} reviews most popular 2-gram / 3-gram:'.format(j))\n",
        "    for i in d:\n",
        "        test = test.append(pd.Series(i, index = index), ignore_index = True)\n",
        "    test = test.sort_values('Count', ascending=False)\n",
        "    print(test)"
      ],
      "execution_count": null,
      "outputs": [
        {
          "output_type": "stream",
          "text": [
            "score 1 reviews most popular 2-gram / 3-gram:\n",
            "    Count Occur %          Phrase\n",
            "0  5536.0  10.59%   (taste, like)\n",
            "1  2316.0   4.43%  (waste, money)\n",
            "2  2175.0   4.16%    (could, n't)\n",
            "3  2111.0   4.04%     (n't, even)\n",
            "4  1809.0   3.46%     (n't, know)\n",
            "5  1794.0   3.43%    (would, n't)\n",
            "6  1644.0   3.15%      (n't, buy)\n",
            "score 2 reviews most popular 2-gram / 3-gram:\n",
            "    Count Occur %          Phrase\n",
            "0  3161.0  10.62%   (taste, like)\n",
            "1  1362.0   4.58%     (n't, like)\n",
            "2  1304.0   4.38%    (would, n't)\n",
            "3  1086.0   3.65%  (think, would)\n",
            "4  1064.0   3.57%      (n't, buy)\n",
            "5  1010.0   3.39%     (n't, know)\n",
            "6   996.0   3.35%    (n't, taste)\n",
            "7   945.0   3.17%    (could, n't)\n",
            "8   910.0   3.06%   (taste, good)\n",
            "score 3 reviews most popular 2-gram / 3-gram:\n",
            "    Count Occur %          Phrase\n",
            "0  3237.0   7.59%   (taste, like)\n",
            "1  1632.0   3.83%    (would, n't)\n",
            "2  1612.0   3.78%     (n't, like)\n",
            "3  1551.0   3.64%   (taste, good)\n",
            "4  1463.0   3.43%   (href=, http)\n",
            "5  1406.0    3.3%     (n't, know)\n",
            "6  1295.0   3.04%  (think, would)\n",
            "score 4 reviews most popular 2-gram / 3-gram:\n",
            "    Count Occur %          Phrase\n",
            "0  4353.0    5.4%   (taste, like)\n",
            "1  3203.0   3.97%   (taste, good)\n",
            "2  3011.0   3.73%   (href=, http)\n",
            "3  2819.0    3.5%  (pretty, good)\n",
            "4  2742.0    3.4%  (really, like)\n",
            "5  2427.0   3.01%     (n't, like)\n",
            "score 5 reviews most popular 2-gram / 3-gram:\n",
            "     Count Occur %               Phrase\n",
            "0  17499.0   4.82%  (highly, recommend)\n",
            "1  14450.0   3.98%        (taste, like)\n",
            "2  11762.0   3.24%     (grocery, store)\n",
            "3  11471.0   3.16%       (taste, great)\n"
          ],
          "name": "stdout"
        }
      ]
    },
    {
      "cell_type": "code",
      "metadata": {
        "id": "6VkuPeQYBmJK"
      },
      "source": [
        "def get_token_adj(score, benchmark, userid='all'):\n",
        "    \n",
        "    if userid != 'all':\n",
        "        df = odf[(odf['UserId'] == userid) & (odf['Score'] == score)]['Text']\n",
        "    else:\n",
        "        df = odf[odf['Score'] == score]['Text']\n",
        "        \n",
        "    count = len(df)\n",
        "    total_text = ' '.join(df)\n",
        "    total_text = total_text.lower()\n",
        "    stop = set(stopwords.words('english'))\n",
        "    total_text = nltk.word_tokenize(total_text)\n",
        "    total_text = [word for word in total_text if word not in stop and len(word) >= 3]\n",
        "    lemmatizer = WordNetLemmatizer()\n",
        "    total_text = [lemmatizer.lemmatize(w,'a') for w in total_text]\n",
        "    # get adjective only\n",
        "    total_text = [word for word, form in nltk.pos_tag(total_text) if form == 'JJ']\n",
        "    \n",
        "    text = nltk.Text(total_text)\n",
        "    fdist = nltk.FreqDist(text)\n",
        "    \n",
        "    # return only phrase occurs more than benchmark of his reviews\n",
        "    return sorted([(w,fdist[w],str(round(fdist[w]/count*100,2))+'%') for w in set(text) if fdist[w] >= count*benchmark], key=lambda x: -x[1])"
      ],
      "execution_count": null,
      "outputs": []
    },
    {
      "cell_type": "code",
      "metadata": {
        "colab": {
          "base_uri": "https://localhost:8080/"
        },
        "id": "gaTKnk-5EG08",
        "outputId": "77ed32ce-ced0-4fa5-a571-72b840f48950"
      },
      "source": [
        "# score 1-5 reviews with this user\n",
        "index = ['Phrase', 'Count', 'Occur %']\n",
        "\n",
        "for j in range(1,6):\n",
        "    test = pd.DataFrame()\n",
        "    d = get_token_adj(j, 0.25, 'A2M9D9BDHONV3Y')\n",
        "    print('score {} reviews most popular adjectives word:'.format(j))\n",
        "    for i in d:\n",
        "        test = test.append(pd.Series(i, index = index), ignore_index = True)\n",
        "    test = test.sort_values('Count', ascending=False)\n",
        "    print(test)"
      ],
      "execution_count": null,
      "outputs": [
        {
          "output_type": "stream",
          "text": [
            "score 1 reviews most popular adjectives word:\n",
            "   Count Occur %     Phrase\n",
            "0   13.0   50.0%        dry\n",
            "1   12.0  46.15%     cheese\n",
            "2   10.0  38.46%     little\n",
            "3   10.0  38.46%        bad\n",
            "4    8.0  30.77%  delicious\n",
            "5    8.0  30.77%      tasty\n",
            "6    8.0  30.77%       hard\n",
            "7    8.0  30.77%  expensive\n",
            "8    7.0  26.92%       poor\n",
            "9    7.0  26.92%      bread\n",
            "score 2 reviews most popular adjectives word:\n",
            "   Count Occur %      Phrase\n",
            "0   10.0  58.82%       whole\n",
            "1    8.0  47.06%      cheese\n",
            "2    6.0  35.29%       wrong\n",
            "3    6.0  35.29%   delicious\n",
            "4    6.0  35.29%       awful\n",
            "5    5.0  29.41%       .give\n",
            "6    5.0  29.41%        good\n",
            "7    5.0  29.41%  particular\n",
            "score 3 reviews most popular adjectives word:\n",
            "   Count Occur %        Phrase\n",
            "0    9.0  64.29%         whole\n",
            "1    5.0  35.71%          high\n",
            "2    4.0  28.57%         first\n",
            "3    4.0  28.57%          good\n",
            "4    4.0  28.57%         great\n",
            "5    4.0  28.57%  disappointed\n",
            "score 4 reviews most popular adjectives word:\n",
            "   Count Occur %     Phrase\n",
            "0    9.0  56.25%      great\n",
            "1    8.0   50.0%  delicious\n",
            "2    5.0  31.25%     little\n",
            "3    5.0  31.25%  recommend\n",
            "4    4.0   25.0%   multiple\n",
            "5    4.0   25.0%       much\n",
            "6    4.0   25.0%       sure\n",
            "7    4.0   25.0%       good\n",
            "8    4.0   25.0%       high\n",
            "9    4.0   25.0%    regular\n",
            "score 5 reviews most popular adjectives word:\n",
            "   Count Occur %     Phrase\n",
            "0   31.0  73.81%  delicious\n",
            "1   18.0  42.86%      great\n",
            "2   13.0  30.95%      first\n",
            "3   13.0  30.95%       high\n",
            "4   12.0  28.57%      fresh\n"
          ],
          "name": "stdout"
        }
      ]
    },
    {
      "cell_type": "code",
      "metadata": {
        "colab": {
          "base_uri": "https://localhost:8080/"
        },
        "id": "qSsqFEDnETLM",
        "outputId": "415812c9-7c77-4d45-d646-ea226a0b9a7a"
      },
      "source": [
        "# score 1-5 reviews with all users\n",
        "index = ['Phrase', 'Count', 'Occur %']\n",
        "\n",
        "for j in range(1,6):\n",
        "    test = pd.DataFrame()\n",
        "    d = get_token_adj(j, 0.05)\n",
        "    print('score {} reviews most popular adjectives word:'.format(j))\n",
        "    for i in d:\n",
        "        test = test.append(pd.Series(i, index = index), ignore_index = True)\n",
        "    test = test.sort_values('Count', ascending=False)\n",
        "    print(test)"
      ],
      "execution_count": null,
      "outputs": [
        {
          "output_type": "stream",
          "text": [
            "score 1 reviews most popular adjectives word:\n",
            "      Count Occur %        Phrase\n",
            "0   16185.0  30.97%          good\n",
            "1   10777.0  20.62%           bad\n",
            "2    4977.0   9.52%         great\n",
            "3    4844.0   9.27%          much\n",
            "4    4786.0   9.16%        little\n",
            "5    4774.0   9.13%           old\n",
            "6    4198.0   8.03%         first\n",
            "7    3956.0   7.57%           new\n",
            "8    3789.0   7.25%     different\n",
            "9    3717.0   7.11%          many\n",
            "10   3537.0   6.77%         small\n",
            "11   3296.0   6.31%          real\n",
            "12   3000.0   5.74%  disappointed\n",
            "13   2884.0   5.52%          sure\n",
            "14   2831.0   5.42%          free\n",
            "15   2823.0    5.4%          diet\n",
            "16   2761.0   5.28%          high\n",
            "17   2658.0   5.09%          last\n",
            "score 2 reviews most popular adjectives word:\n",
            "      Count Occur %        Phrase\n",
            "0   13519.0  45.41%          good\n",
            "1    4251.0  14.28%          much\n",
            "2    4169.0   14.0%           bad\n",
            "3    3909.0  13.13%         great\n",
            "4    3691.0   12.4%        little\n",
            "5    2847.0   9.56%         small\n",
            "6    2323.0    7.8%         first\n",
            "7    2292.0    7.7%        strong\n",
            "8    2239.0   7.52%     different\n",
            "9    2163.0   7.27%         sweet\n",
            "10   2067.0   6.94%          many\n",
            "11   2050.0   6.89%           old\n",
            "12   2006.0   6.74%           big\n",
            "13   1958.0   6.58%          hard\n",
            "14   1923.0   6.46%           hot\n",
            "15   1906.0    6.4%  disappointed\n",
            "16   1902.0   6.39%          sure\n",
            "17   1893.0   6.36%          high\n",
            "18   1766.0   5.93%         green\n",
            "19   1703.0   5.72%         whole\n",
            "20   1643.0   5.52%       healthy\n",
            "21   1608.0    5.4%           new\n",
            "22   1595.0   5.36%          weak\n",
            "23   1576.0   5.29%       organic\n",
            "24   1519.0    5.1%          real\n",
            "25   1495.0   5.02%       regular\n",
            "score 3 reviews most popular adjectives word:\n",
            "      Count Occur %     Phrase\n",
            "0   25082.0  58.82%       good\n",
            "1    7648.0  17.94%      great\n",
            "2    7367.0  17.28%     little\n",
            "3    6927.0  16.25%       much\n",
            "4    5473.0  12.84%        bad\n",
            "5    4744.0  11.13%     strong\n",
            "6    4679.0  10.97%      small\n",
            "7    4009.0    9.4%      sweet\n",
            "8    3464.0   8.12%      first\n",
            "9    3432.0   8.05%  different\n",
            "10   3288.0   7.71%       high\n",
            "11   3108.0   7.29%       nice\n",
            "12   3102.0   7.27%       sure\n",
            "13   3034.0   7.12%        big\n",
            "14   2918.0   6.84%        hot\n",
            "15   2904.0   6.81%       many\n",
            "16   2761.0   6.48%      green\n",
            "17   2664.0   6.25%    healthy\n",
            "18   2608.0   6.12%    organic\n",
            "19   2596.0   6.09%       hard\n",
            "20   2567.0   6.02%    regular\n",
            "21   2518.0   5.91%        old\n",
            "22   2516.0    5.9%      large\n",
            "23   2245.0   5.27%      whole\n",
            "24   2237.0   5.25%    natural\n",
            "25   2162.0   5.07%        dry\n",
            "score 4 reviews most popular adjectives word:\n",
            "      Count Occur %     Phrase\n",
            "0   52527.0  65.13%       good\n",
            "1   22466.0  27.85%      great\n",
            "2   16209.0   20.1%     little\n",
            "3   10517.0  13.04%       much\n",
            "4    9279.0   11.5%       nice\n",
            "5    8529.0  10.57%     strong\n",
            "6    8370.0  10.38%      small\n",
            "7    8159.0  10.12%      sweet\n",
            "8    6489.0   8.05%    healthy\n",
            "9    6151.0   7.63%       easy\n",
            "10   5969.0    7.4%        hot\n",
            "11   5961.0   7.39%       high\n",
            "12   5734.0   7.11%       many\n",
            "13   5675.0   7.04%        bad\n",
            "14   5673.0   7.03%        big\n",
            "15   5479.0   6.79%  different\n",
            "16   5424.0   6.72%      first\n",
            "17   5297.0   6.57%    organic\n",
            "18   5041.0   6.25%       sure\n",
            "19   5032.0   6.24%       free\n",
            "20   4835.0   5.99%      green\n",
            "21   4761.0    5.9%    regular\n",
            "22   4653.0   5.77%      large\n",
            "23   4572.0   5.67%       hard\n",
            "24   4497.0   5.58%        old\n",
            "25   4471.0   5.54%      tasty\n",
            "26   4462.0   5.53%      fresh\n",
            "27   4402.0   5.46%        low\n",
            "28   4324.0   5.36%      whole\n",
            "29   4322.0   5.36%  delicious\n",
            "30   4258.0   5.28%    natural\n",
            "score 5 reviews most popular adjectives word:\n",
            "       Count Occur %     Phrase\n",
            "0   151087.0  41.61%       good\n",
            "1   127588.0  35.14%      great\n",
            "2    45682.0  12.58%     little\n",
            "3    32748.0   9.02%       much\n",
            "4    32677.0    9.0%  delicious\n",
            "5    30145.0    8.3%    healthy\n",
            "6    27700.0   7.63%       many\n",
            "7    26152.0    7.2%       free\n",
            "8    25824.0   7.11%       easy\n",
            "9    25240.0   6.95%   favorite\n",
            "10   24891.0   6.85%      small\n",
            "11   24737.0   6.81%        hot\n",
            "12   23757.0   6.54%      sweet\n",
            "13   23219.0   6.39%       nice\n",
            "14   21379.0   5.89%        old\n",
            "15   21155.0   5.83%      happy\n",
            "16   20400.0   5.62%      fresh\n",
            "17   20259.0   5.58%     strong\n",
            "18   19746.0   5.44%    organic\n",
            "19   19712.0   5.43%       high\n",
            "20   19340.0   5.33%  different\n",
            "21   18859.0   5.19%      first\n",
            "22   18733.0   5.16%      local\n",
            "23   18620.0   5.13%    perfect\n",
            "24   18310.0   5.04%        big\n"
          ],
          "name": "stdout"
        }
      ]
    },
    {
      "cell_type": "code",
      "metadata": {
        "id": "2KArRbrSEwKq"
      },
      "source": [
        ""
      ],
      "execution_count": null,
      "outputs": []
    }
  ]
}